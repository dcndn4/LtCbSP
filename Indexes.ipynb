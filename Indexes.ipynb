{
 "cells": [
  {
   "cell_type": "code",
   "execution_count": 1,
   "id": "f2ae139f-a93d-43f4-98c9-97ca3e825432",
   "metadata": {},
   "outputs": [],
   "source": [
    "word = 'splore'"
   ]
  },
  {
   "cell_type": "code",
   "execution_count": 2,
   "id": "9b618fe5-9be1-4ed8-bfdc-9a75c2fb562e",
   "metadata": {},
   "outputs": [
    {
     "name": "stdout",
     "output_type": "stream",
     "text": [
      "s\n"
     ]
    }
   ],
   "source": [
    "print(word[0])"
   ]
  },
  {
   "cell_type": "code",
   "execution_count": 3,
   "id": "b20edb2e-c89b-45cc-8d0d-d7f7e144828e",
   "metadata": {},
   "outputs": [
    {
     "name": "stdout",
     "output_type": "stream",
     "text": [
      "o\n"
     ]
    }
   ],
   "source": [
    "print(word[3])"
   ]
  },
  {
   "cell_type": "code",
   "execution_count": 4,
   "id": "373cdc67-d430-4d33-a558-093b122c993c",
   "metadata": {},
   "outputs": [
    {
     "name": "stdout",
     "output_type": "stream",
     "text": [
      "e\n"
     ]
    }
   ],
   "source": [
    "print(word[5])"
   ]
  },
  {
   "cell_type": "code",
   "execution_count": 5,
   "id": "e500ce2f-0d3b-4549-bafe-33f94d053d4c",
   "metadata": {},
   "outputs": [],
   "source": [
    "where = 2"
   ]
  },
  {
   "cell_type": "code",
   "execution_count": 7,
   "id": "162ccd50-78d0-4ab7-8f1e-a712756bf32c",
   "metadata": {},
   "outputs": [
    {
     "name": "stdout",
     "output_type": "stream",
     "text": [
      "l\n"
     ]
    }
   ],
   "source": [
    "print(word[where])"
   ]
  },
  {
   "cell_type": "code",
   "execution_count": 8,
   "id": "a808ae74-2184-40e5-b284-80628674efaf",
   "metadata": {},
   "outputs": [
    {
     "name": "stdout",
     "output_type": "stream",
     "text": [
      "l\n"
     ]
    }
   ],
   "source": [
    "print(word[2])\n"
   ]
  },
  {
   "cell_type": "code",
   "execution_count": 9,
   "id": "f4380888-d6d8-4219-8898-936d22389cb3",
   "metadata": {},
   "outputs": [
    {
     "name": "stdout",
     "output_type": "stream",
     "text": [
      "l\n"
     ]
    }
   ],
   "source": [
    "word= 'splore'\n",
    "print(word[2])"
   ]
  },
  {
   "cell_type": "code",
   "execution_count": 10,
   "id": "d493ffdf-d5c2-4e7e-aa09-57bade1091a1",
   "metadata": {},
   "outputs": [
    {
     "name": "stdout",
     "output_type": "stream",
     "text": [
      "p\n"
     ]
    }
   ],
   "source": [
    "print(word[1])"
   ]
  },
  {
   "cell_type": "code",
   "execution_count": 11,
   "id": "d39d938a-5acb-46a3-b35e-1757f2581a8e",
   "metadata": {},
   "outputs": [
    {
     "name": "stdout",
     "output_type": "stream",
     "text": [
      "r\n"
     ]
    }
   ],
   "source": [
    "print(word[where+2])"
   ]
  },
  {
   "cell_type": "code",
   "execution_count": 12,
   "id": "bb21de92-9f5a-47d0-8a8e-1efcbbc56f13",
   "metadata": {},
   "outputs": [],
   "source": [
    "s = 'abcde'"
   ]
  },
  {
   "cell_type": "code",
   "execution_count": 15,
   "id": "e5f80287-9fab-4387-8fb9-84afbcf6684e",
   "metadata": {},
   "outputs": [],
   "source": [
    "t = s[0] + s[-5] + s[len(s)-5]"
   ]
  },
  {
   "cell_type": "code",
   "execution_count": 16,
   "id": "912b2fc4-eb64-4e9d-b168-0dbf208c5b8a",
   "metadata": {},
   "outputs": [
    {
     "name": "stdout",
     "output_type": "stream",
     "text": [
      "aaa\n"
     ]
    }
   ],
   "source": [
    "print(t)"
   ]
  },
  {
   "cell_type": "code",
   "execution_count": 17,
   "id": "68e43200-3c94-46dc-b26b-71635f55c0b5",
   "metadata": {},
   "outputs": [
    {
     "name": "stdout",
     "output_type": "stream",
     "text": [
      "0\n",
      "1\n",
      "2\n",
      "3\n",
      "4\n"
     ]
    }
   ],
   "source": [
    "for num in range(5):\n",
    "    print(num)"
   ]
  },
  {
   "cell_type": "code",
   "execution_count": 19,
   "id": "1f53a5cc-f579-4d47-aafc-000b429736b8",
   "metadata": {},
   "outputs": [
    {
     "name": "stdout",
     "output_type": "stream",
     "text": [
      "3\n",
      "4\n",
      "5\n",
      "6\n"
     ]
    }
   ],
   "source": [
    "for num in range (3,7):\n",
    "    print(num)"
   ]
  },
  {
   "cell_type": "code",
   "execution_count": 24,
   "id": "546de92f-66f9-40fc-add3-cb5a80ca7ced",
   "metadata": {},
   "outputs": [
    {
     "name": "stdout",
     "output_type": "stream",
     "text": [
      "0\n",
      "3\n",
      "6\n",
      "9\n"
     ]
    }
   ],
   "source": [
    "for num in range(0, 10, 3):\n",
    "    print(num)"
   ]
  },
  {
   "cell_type": "code",
   "execution_count": 26,
   "id": "289b4b8c-826e-4f94-910f-2da36d29d6be",
   "metadata": {},
   "outputs": [
    {
     "name": "stdout",
     "output_type": "stream",
     "text": [
      "6\n",
      "5\n",
      "4\n",
      "3\n"
     ]
    }
   ],
   "source": [
    "for num in range (6, 2, -1):\n",
    "    print(num)"
   ]
  },
  {
   "cell_type": "code",
   "execution_count": 28,
   "id": "2b7c539a-e566-4b8b-8f3b-3c7e8a78335a",
   "metadata": {},
   "outputs": [
    {
     "data": {
      "text/plain": [
       "[3, 4, 5, 6]"
      ]
     },
     "execution_count": 28,
     "metadata": {},
     "output_type": "execute_result"
    }
   ],
   "source": [
    "list(range(3,7))"
   ]
  },
  {
   "cell_type": "code",
   "execution_count": 29,
   "id": "7d07e968-1692-4d00-9c34-69342c95ffc2",
   "metadata": {},
   "outputs": [
    {
     "name": "stdout",
     "output_type": "stream",
     "text": [
      "<class 'list'>\n"
     ]
    }
   ],
   "source": [
    "print(list)"
   ]
  },
  {
   "cell_type": "code",
   "execution_count": 30,
   "id": "138129b2-3ee0-4e7c-9c58-40488df029c2",
   "metadata": {},
   "outputs": [
    {
     "name": "stdout",
     "output_type": "stream",
     "text": [
      "[3, 4, 5, 6]\n"
     ]
    }
   ],
   "source": [
    "print(list(range(3,7)))"
   ]
  },
  {
   "cell_type": "code",
   "execution_count": 31,
   "id": "a9a7a7b6-47d8-411f-b763-65a2666fb75f",
   "metadata": {},
   "outputs": [
    {
     "name": "stdout",
     "output_type": "stream",
     "text": [
      "jump up and down  10\n",
      "jump up and down  11\n",
      "jump up and down  12\n",
      "jump up and down  13\n",
      "jump up and down  14\n",
      "jump up and down  15\n",
      "jump up and down  16\n",
      "jump up and down  17\n",
      "jump up and down  18\n",
      "jump up and down  19\n"
     ]
    }
   ],
   "source": [
    "for i in range(10, 20):\n",
    "    print('jump up and down ', i)"
   ]
  },
  {
   "cell_type": "code",
   "execution_count": 32,
   "id": "a23d580c-04fe-4d5c-8752-9f537282558e",
   "metadata": {},
   "outputs": [
    {
     "name": "stdout",
     "output_type": "stream",
     "text": [
      "0\n",
      "1\n",
      "2\n",
      "3\n",
      "4\n"
     ]
    }
   ],
   "source": [
    "num = 0\n",
    "while num < 5:\n",
    "    print(num)\n",
    "    num += 1"
   ]
  },
  {
   "cell_type": "code",
   "execution_count": null,
   "id": "b8aadb9b-8c59-4796-bd8d-fb4b7db375b4",
   "metadata": {},
   "outputs": [],
   "source": [
    "# this shows what happens in infinite loop_ learning where stop key is!\n",
    "# the 'add one each time) operand is plus before =, not =+ !!!\n",
    "num = 0\n",
    "while num < 5:\n",
    "    # print(num)\n",
    "    # num =+ 1\n",
    "    # result (deleted, since long even though stopped right away: many 1's!"
   ]
  },
  {
   "cell_type": "code",
   "execution_count": 34,
   "id": "5af20cbe-31bc-40c4-9c13-057a8d492cc6",
   "metadata": {},
   "outputs": [
    {
     "name": "stdout",
     "output_type": "stream",
     "text": [
      "0\n",
      "3\n",
      "6\n",
      "9\n"
     ]
    }
   ],
   "source": [
    "num = 0\n",
    "while num < 10:\n",
    "    print(num)\n",
    "    num +=3"
   ]
  },
  {
   "cell_type": "code",
   "execution_count": 36,
   "id": "a3de7860-447c-4194-b7fe-28e1b1e0ec04",
   "metadata": {},
   "outputs": [
    {
     "name": "stdout",
     "output_type": "stream",
     "text": [
      "4\n",
      "3\n",
      "2\n",
      "1\n"
     ]
    }
   ],
   "source": [
    "num = 4\n",
    "while num > 0:\n",
    "    print(num)\n",
    "    num -= 1\n",
    "# doing -= with positive operand is same as doing += with neg operand\n",
    "    "
   ]
  },
  {
   "cell_type": "code",
   "execution_count": 37,
   "id": "af7b6ed4-20d4-48b5-843a-5664af9b3f4a",
   "metadata": {},
   "outputs": [
    {
     "name": "stdout",
     "output_type": "stream",
     "text": [
      "3\n",
      "4\n",
      "-100\n"
     ]
    }
   ],
   "source": [
    "n = 3\n",
    "while n > 0:\n",
    "    if n == 5:\n",
    "        n = -100\n",
    "    print(n)\n",
    "    n += 1"
   ]
  },
  {
   "cell_type": "code",
   "execution_count": 38,
   "id": "dcf5ca08-12d7-485c-ab77-72bed75b3045",
   "metadata": {},
   "outputs": [
    {
     "name": "stdout",
     "output_type": "stream",
     "text": [
      "5\n",
      "4\n"
     ]
    }
   ],
   "source": [
    "x = 6\n",
    "while x > 4:\n",
    "    x += -1\n",
    "    print(x)"
   ]
  },
  {
   "cell_type": "code",
   "execution_count": 39,
   "id": "429c772e-fda4-4b5c-a9de-ee43f86cba9a",
   "metadata": {},
   "outputs": [
    {
     "name": "stdout",
     "output_type": "stream",
     "text": [
      "0 8\n",
      "0 9\n",
      "1 8\n",
      "1 9\n",
      "2 8\n",
      "2 9\n"
     ]
    }
   ],
   "source": [
    "i = 0\n",
    "while i < 3:\n",
    "    j = 8\n",
    "    while j < 10:\n",
    "        print(i, j)\n",
    "        j += 1\n",
    "    i += 1"
   ]
  },
  {
   "cell_type": "code",
   "execution_count": 40,
   "id": "bb6169ed-0ee1-40fe-bed2-c6e858749718",
   "metadata": {},
   "outputs": [
    {
     "name": "stdout",
     "output_type": "stream",
     "text": [
      "0 1\n",
      "0 2\n"
     ]
    }
   ],
   "source": [
    "x = 0\n",
    "y = 1\n",
    "while x < 3:\n",
    "    while y < 3:\n",
    "        print(x,y)\n",
    "        y += 1\n",
    "    x += 1"
   ]
  },
  {
   "cell_type": "code",
   "execution_count": 41,
   "id": "e7304b2b-d869-4df0-ba6e-9e03af79fc4c",
   "metadata": {},
   "outputs": [
    {
     "name": "stdout",
     "output_type": "stream",
     "text": [
      "4 10\n",
      "5 11\n",
      "6 12\n",
      "7 13\n"
     ]
    }
   ],
   "source": [
    "x = 4\n",
    "y = 10\n",
    "while x <= 10 and y <= 13:\n",
    "    print(x,y)\n",
    "    x += 1\n",
    "    y += 1"
   ]
  },
  {
   "cell_type": "code",
   "execution_count": null,
   "id": "2fb66752-a144-4b2b-91af-7678da935005",
   "metadata": {},
   "outputs": [],
   "source": [
    "#process terminates after only 4 iterations, when y reaches 13."
   ]
  }
 ],
 "metadata": {
  "kernelspec": {
   "display_name": "Python 3 (ipykernel)",
   "language": "python",
   "name": "python3"
  },
  "language_info": {
   "codemirror_mode": {
    "name": "ipython",
    "version": 3
   },
   "file_extension": ".py",
   "mimetype": "text/x-python",
   "name": "python",
   "nbconvert_exporter": "python",
   "pygments_lexer": "ipython3",
   "version": "3.7.10"
  }
 },
 "nbformat": 4,
 "nbformat_minor": 5
}
