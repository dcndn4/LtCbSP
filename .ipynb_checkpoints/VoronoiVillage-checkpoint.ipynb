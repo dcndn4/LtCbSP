{
 "cells": [
  {
   "cell_type": "code",
   "execution_count": 2,
   "id": "c7b2617c-bda7-4f52-ab7d-4ff8f614886d",
   "metadata": {},
   "outputs": [
    {
     "name": "stdout",
     "output_type": "stream",
     "text": [
      "[1, 2, 3, 4, 5, 6]\n"
     ]
    }
   ],
   "source": [
    "print([1,2,3] + [4, 5, 6])\n"
   ]
  },
  {
   "cell_type": "code",
   "execution_count": 3,
   "id": "143c3079-028e-4040-9464-c4eebd36b2b1",
   "metadata": {},
   "outputs": [
    {
     "name": "stdout",
     "output_type": "stream",
     "text": [
      "True\n"
     ]
    }
   ],
   "source": [
    "print('one' in ['one', 'two', 'three'])\n"
   ]
  },
  {
   "cell_type": "code",
   "execution_count": 4,
   "id": "1d3abc43-4b68-4565-81ee-3c035ffe97c8",
   "metadata": {},
   "outputs": [
    {
     "name": "stdout",
     "output_type": "stream",
     "text": [
      "3\n"
     ]
    }
   ],
   "source": [
    "print(len(['one', 'two', 'hello']))\n"
   ]
  },
  {
   "cell_type": "code",
   "execution_count": 5,
   "id": "1eeade04-ab09-475f-a3af-4e37834ee899",
   "metadata": {},
   "outputs": [
    {
     "name": "stdout",
     "output_type": "stream",
     "text": [
      "20\n",
      "50\n",
      "4\n",
      "19\n",
      "15\n",
      "1\n"
     ]
    }
   ],
   "source": [
    "for value in [20, 50, 4, 19, 15, 1]:\n",
    "    print(value)"
   ]
  },
  {
   "cell_type": "code",
   "execution_count": 6,
   "id": "dfae90e3-b0e6-4b56-b842-9a592b30ce38",
   "metadata": {},
   "outputs": [],
   "source": [
    "# the list doesn't have a name?!! wut. "
   ]
  },
  {
   "cell_type": "code",
   "execution_count": 9,
   "id": "d95d2d0e-ebad-4a7d-851c-1789c1f5cc07",
   "metadata": {},
   "outputs": [],
   "source": [
    "stringgroup = ['one', 'two', 'hello']"
   ]
  },
  {
   "cell_type": "code",
   "execution_count": 10,
   "id": "b4490d0d-3656-466b-babf-22a1082486ee",
   "metadata": {},
   "outputs": [
    {
     "name": "stdout",
     "output_type": "stream",
     "text": [
      "hello\n"
     ]
    }
   ],
   "source": [
    "print(stringgroup[2])"
   ]
  },
  {
   "cell_type": "code",
   "execution_count": 11,
   "id": "e29e8c17-c9a2-4c22-806b-474a3820e13b",
   "metadata": {},
   "outputs": [
    {
     "name": "stdout",
     "output_type": "stream",
     "text": [
      "e\n"
     ]
    }
   ],
   "source": [
    "print(stringgroup[2][1])"
   ]
  },
  {
   "cell_type": "code",
   "execution_count": 12,
   "id": "669b27fb-1bdd-426d-be9b-3f6de80a2f9a",
   "metadata": {},
   "outputs": [
    {
     "name": "stdout",
     "output_type": "stream",
     "text": [
      "['h', 'e', 'l', 'l', 'o']\n"
     ]
    }
   ],
   "source": [
    "dish = ['h', 'e', 'l', 'l', 'o']\n",
    "print(dish)"
   ]
  },
  {
   "cell_type": "code",
   "execution_count": 13,
   "id": "5e48ad19-ec48-4383-8561-6836906eee2d",
   "metadata": {},
   "outputs": [
    {
     "name": "stdout",
     "output_type": "stream",
     "text": [
      "['j', 'e', 'l', 'l', 'o']\n"
     ]
    }
   ],
   "source": [
    "dish[0] = 'j'\n",
    "print(dish)"
   ]
  },
  {
   "cell_type": "code",
   "execution_count": 14,
   "id": "36e9c435-05a2-488e-b512-39341eb60e51",
   "metadata": {},
   "outputs": [
    {
     "name": "stdout",
     "output_type": "stream",
     "text": [
      "['j', 'e', 'x', 'l', 'o']\n"
     ]
    }
   ],
   "source": [
    "dish[2] = 'x'\n",
    "print(dish)"
   ]
  },
  {
   "cell_type": "code",
   "execution_count": 21,
   "id": "770dd606-7802-43af-8d83-70d48ce071eb",
   "metadata": {},
   "outputs": [
    {
     "name": "stdout",
     "output_type": "stream",
     "text": [
      "size is 0.5 min_size is  8.5\n",
      "size is 0.5 updated min_size is  0.5\n",
      "size is 2.5 min_size is  0.5\n",
      "size is 2.5 updated min_size is  0.5\n",
      "size is 3.0 min_size is  0.5\n",
      "size is 3.0 updated min_size is  0.5\n",
      "size is 5.5 min_size is  0.5\n",
      "size is 5.5 updated min_size is  0.5\n",
      "size is 8.0 min_size is  0.5\n",
      "size is 8.0 updated min_size is  0.5\n",
      "size is 8.5 min_size is  0.5\n",
      "size is 8.5 updated min_size is  0.5\n"
     ]
    }
   ],
   "source": [
    "Village = [0, 4, 5, 10, 15, 16]\n",
    "minsize = 10\n",
    "for i in range(6):\n",
    "    left = (Village[i] - Village[0])/2\n",
    "    right = (Village[2] - Village[1])/2\n",
    "    size=left + right\n",
    "    print('size is' ,size, 'min_size is ', min_size)\n",
    "    if size < min_size:\n",
    "        min_size = size\n",
    "    print('size is' ,size, 'updated min_size is ', min_size)"
   ]
  },
  {
   "cell_type": "code",
   "execution_count": null,
   "id": "461d18ea-affe-4ed2-9d01-351b0ed4a660",
   "metadata": {},
   "outputs": [],
   "source": []
  }
 ],
 "metadata": {
  "kernelspec": {
   "display_name": "Python 3 (ipykernel)",
   "language": "python",
   "name": "python3"
  },
  "language_info": {
   "codemirror_mode": {
    "name": "ipython",
    "version": 3
   },
   "file_extension": ".py",
   "mimetype": "text/x-python",
   "name": "python",
   "nbconvert_exporter": "python",
   "pygments_lexer": "ipython3",
   "version": "3.7.10"
  }
 },
 "nbformat": 4,
 "nbformat_minor": 5
}
