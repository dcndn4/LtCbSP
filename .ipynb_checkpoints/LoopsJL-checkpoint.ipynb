{
 "cells": [
  {
   "cell_type": "code",
   "execution_count": 1,
   "id": "432edc8d-2bb8-48de-a6a4-0d510ba40054",
   "metadata": {},
   "outputs": [],
   "source": [
    "secret_word = 'olive'\n"
   ]
  },
  {
   "cell_type": "code",
   "execution_count": 2,
   "id": "26b599b4-c282-4e7f-89c0-c3ab5932684d",
   "metadata": {},
   "outputs": [
    {
     "name": "stdout",
     "output_type": "stream",
     "text": [
      "5 iterations coming right up!\n"
     ]
    }
   ],
   "source": [
    "print(len(secret_word), 'iterations coming right up!')"
   ]
  },
  {
   "cell_type": "code",
   "execution_count": 4,
   "id": "659c90d4-d632-4440-9153-2e724ffd1fd1",
   "metadata": {},
   "outputs": [
    {
     "name": "stdout",
     "output_type": "stream",
     "text": [
      "Letter: o\n",
      "*\n",
      "Letter: l\n",
      "*\n",
      "Letter: i\n",
      "*\n",
      "Letter: v\n",
      "*\n",
      "Letter: e\n",
      "*\n"
     ]
    }
   ],
   "source": [
    "for char in secret_word:\n",
    "    print('Letter: ' + char)\n",
    "    print('*')"
   ]
  },
  {
   "cell_type": "code",
   "execution_count": 5,
   "id": "e400921e-9559-4b2b-86ec-c786b6c87c1e",
   "metadata": {},
   "outputs": [
    {
     "name": "stdout",
     "output_type": "stream",
     "text": [
      "2\n",
      "4\n",
      "5\n",
      "7\n",
      "9\n",
      "10\n"
     ]
    }
   ],
   "source": [
    "s = 'garage'\n",
    "total = 0\n",
    "\n",
    "for char in s:\n",
    "    total = total + s.count(char)\n",
    "    print(total)"
   ]
  },
  {
   "cell_type": "code",
   "execution_count": 6,
   "id": "bb6a41f2-a5f0-49d1-94fd-8b6609d8d8a7",
   "metadata": {},
   "outputs": [
    {
     "name": "stdout",
     "output_type": "stream",
     "text": [
      "False\n"
     ]
    }
   ],
   "source": [
    "print('q'.isupper())\n"
   ]
  },
  {
   "cell_type": "code",
   "execution_count": 8,
   "id": "97fdcf58-29fd-48e6-a9fc-e980d0c285ed",
   "metadata": {},
   "outputs": [
    {
     "name": "stdout",
     "output_type": "stream",
     "text": [
      "True\n"
     ]
    }
   ],
   "source": [
    "print('Q'.isupper())"
   ]
  },
  {
   "cell_type": "code",
   "execution_count": 9,
   "id": "e50904a5-41af-40f7-9a85-c13700f721e1",
   "metadata": {},
   "outputs": [
    {
     "name": "stdout",
     "output_type": "stream",
     "text": [
      "T\n",
      "E\n"
     ]
    }
   ],
   "source": [
    "title = 'The Escape'\n",
    "for char in title:\n",
    "    if char.isupper():\n",
    "        print(char)"
   ]
  },
  {
   "cell_type": "code",
   "execution_count": 10,
   "id": "31704944-a038-476e-8f76-529b643e8f38",
   "metadata": {},
   "outputs": [
    {
     "name": "stdout",
     "output_type": "stream",
     "text": [
      "A1\n",
      "A2\n",
      "A3\n",
      "B1\n",
      "B2\n",
      "B3\n",
      "C1\n",
      "C2\n",
      "C3\n"
     ]
    }
   ],
   "source": [
    "letters = 'ABC'\n",
    "digits = '123'\n",
    "\n",
    "for letter in letters:\n",
    "    for digit in digits:\n",
    "        print(letter + digit)"
   ]
  },
  {
   "cell_type": "code",
   "execution_count": 12,
   "id": "5ee54415-d18b-4f53-80e4-fb9741ea5c74",
   "metadata": {},
   "outputs": [
    {
     "name": "stdout",
     "output_type": "stream",
     "text": [
      "1\n",
      "2\n",
      "3\n",
      "4\n",
      "5\n",
      "6\n",
      "7\n",
      "8\n",
      "9\n",
      "10\n",
      "11\n",
      "12\n",
      "13\n",
      "14\n",
      "15\n",
      "16\n",
      "17\n",
      "18\n",
      "19\n",
      "20\n",
      "21\n",
      "22\n",
      "23\n",
      "24\n",
      "25\n",
      "26\n",
      "27\n",
      "28\n",
      "29\n",
      "30\n",
      "31\n",
      "32\n",
      "33\n",
      "34\n",
      "35\n",
      "36\n",
      "37\n",
      "38\n",
      "39\n",
      "40\n",
      "41\n",
      "42\n",
      "43\n",
      "44\n",
      "45\n",
      "46\n",
      "47\n",
      "48\n",
      "49\n",
      "50\n",
      "51\n",
      "52\n",
      "53\n",
      "54\n",
      "55\n",
      "56\n",
      "57\n",
      "58\n",
      "59\n",
      "60\n",
      "61\n",
      "62\n",
      "63\n",
      "64\n",
      "65\n",
      "66\n",
      "67\n",
      "68\n",
      "69\n",
      "70\n",
      "71\n",
      "72\n",
      "73\n",
      "74\n",
      "75\n",
      "76\n",
      "77\n",
      "78\n",
      "79\n",
      "80\n",
      "81\n",
      "82\n",
      "83\n",
      "84\n",
      "85\n",
      "86\n",
      "87\n",
      "88\n",
      "89\n",
      "90\n",
      "91\n",
      "92\n",
      "93\n",
      "94\n",
      "95\n",
      "96\n",
      "97\n",
      "98\n",
      "99\n",
      "100\n"
     ]
    }
   ],
   "source": [
    "title = 'The Escape'\n",
    "total = 0\n",
    "\n",
    "for char1 in title:\n",
    "    for char2 in title:\n",
    "        total = total + 1\n",
    "        print(total)\n",
    "# this results in printing each result"
   ]
  },
  {
   "cell_type": "code",
   "execution_count": 13,
   "id": "dd1e916b-87f7-4e1a-8122-9ca8ed006e38",
   "metadata": {},
   "outputs": [
    {
     "name": "stdout",
     "output_type": "stream",
     "text": [
      "100\n"
     ]
    }
   ],
   "source": [
    "title = 'The Escape'\n",
    "total = 0\n",
    "\n",
    "for char1 in title:\n",
    "    for char2 in title:\n",
    "        total = total + 1\n",
    "print(total)\n",
    "# this results in printing only the final result"
   ]
  },
  {
   "cell_type": "code",
   "execution_count": null,
   "id": "0969436c-c725-4eb6-a34f-f23f54d5d80f",
   "metadata": {},
   "outputs": [],
   "source": []
  }
 ],
 "metadata": {
  "kernelspec": {
   "display_name": "Python 3 (ipykernel)",
   "language": "python",
   "name": "python3"
  },
  "language_info": {
   "codemirror_mode": {
    "name": "ipython",
    "version": 3
   },
   "file_extension": ".py",
   "mimetype": "text/x-python",
   "name": "python",
   "nbconvert_exporter": "python",
   "pygments_lexer": "ipython3",
   "version": "3.7.10"
  }
 },
 "nbformat": 4,
 "nbformat_minor": 5
}
