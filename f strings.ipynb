{
 "cells": [
  {
   "cell_type": "code",
   "execution_count": 1,
   "id": "bd496baf-952a-49e8-8836-0bac073dcfdb",
   "metadata": {},
   "outputs": [],
   "source": [
    "# without f string"
   ]
  },
  {
   "cell_type": "code",
   "execution_count": 2,
   "id": "4a98c850-4e66-472a-b7a1-0a0d73e58053",
   "metadata": {},
   "outputs": [
    {
     "name": "stdout",
     "output_type": "stream",
     "text": [
      "Martha plays 5 times before money is spent\n"
     ]
    }
   ],
   "source": [
    "plays = range(10)\n",
    "print('Martha plays', plays[5], 'times before money is spent')"
   ]
  },
  {
   "cell_type": "code",
   "execution_count": 3,
   "id": "1a5ba893-eb5b-48cb-a9a6-1021efa3303b",
   "metadata": {},
   "outputs": [
    {
     "name": "stdout",
     "output_type": "stream",
     "text": [
      "We have 7, 82, and 11.\n"
     ]
    }
   ],
   "source": [
    "num1 = 7\n",
    "num2 = 82\n",
    "num3 = 11\n",
    "print(f'We have {num1}, {num2}, and {num3}.')"
   ]
  },
  {
   "cell_type": "code",
   "execution_count": 4,
   "id": "5a06dc67-abc6-4d20-bb5b-55e2a8a8d9a6",
   "metadata": {},
   "outputs": [
    {
     "name": "stdout",
     "output_type": "stream",
     "text": [
      "<class 'str'>\n"
     ]
    }
   ],
   "source": [
    "print(type(f'hello'))"
   ]
  },
  {
   "cell_type": "code",
   "execution_count": 5,
   "id": "dd5cd4dd-9ce0-4de8-a327-1b216c5e66c3",
   "metadata": {},
   "outputs": [
    {
     "name": "stdout",
     "output_type": "stream",
     "text": [
      "<class 'str'>\n"
     ]
    }
   ],
   "source": [
    "print(type(f'hello {num1}'))"
   ]
  },
  {
   "cell_type": "code",
   "execution_count": 7,
   "id": "3b5fcfef-17ef-4318-a6d0-16642e84e905",
   "metadata": {},
   "outputs": [
    {
     "name": "stdout",
     "output_type": "stream",
     "text": [
      "the sum is 100\n"
     ]
    }
   ],
   "source": [
    "print(f'the sum is {num1 + num2 + num3}')"
   ]
  },
  {
   "cell_type": "code",
   "execution_count": 8,
   "id": "fa9abd83-cd2e-4ccb-a8b6-1e56d6b04fad",
   "metadata": {},
   "outputs": [],
   "source": [
    "button = 0"
   ]
  },
  {
   "cell_type": "code",
   "execution_count": 9,
   "id": "c363b40a-99b2-4f4f-bf44-0cc79b95aaf3",
   "metadata": {},
   "outputs": [],
   "source": [
    "songs = 'ABCDE'\n",
    "songs = songs[1] + songs[2] + songs[3] + songs[4] + songs[0]"
   ]
  },
  {
   "cell_type": "code",
   "execution_count": 10,
   "id": "097f82db-5061-4eef-ba2d-983dd66e5a5f",
   "metadata": {},
   "outputs": [
    {
     "name": "stdout",
     "output_type": "stream",
     "text": [
      "BCDEA\n"
     ]
    }
   ],
   "source": [
    "print(songs)\n",
    "\n"
   ]
  },
  {
   "cell_type": "code",
   "execution_count": 12,
   "id": "6abd81bc-3ebc-4227-87eb-167e0bb3b3fa",
   "metadata": {},
   "outputs": [
    {
     "name": "stdout",
     "output_type": "stream",
     "text": [
      "st V\n"
     ]
    }
   ],
   "source": [
    "game = 'Lost Vikings'\n",
    "print(game[2:-6])"
   ]
  },
  {
   "cell_type": "code",
   "execution_count": null,
   "id": "dd07cbbb-6078-478e-8b2b-eeb8ff42fec3",
   "metadata": {},
   "outputs": [],
   "source": []
  }
 ],
 "metadata": {
  "kernelspec": {
   "display_name": "Python 3 (ipykernel)",
   "language": "python",
   "name": "python3"
  },
  "language_info": {
   "codemirror_mode": {
    "name": "ipython",
    "version": 3
   },
   "file_extension": ".py",
   "mimetype": "text/x-python",
   "name": "python",
   "nbconvert_exporter": "python",
   "pygments_lexer": "ipython3",
   "version": "3.7.10"
  }
 },
 "nbformat": 4,
 "nbformat_minor": 5
}
